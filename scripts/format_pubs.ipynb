{
 "cells": [
  {
   "cell_type": "code",
   "execution_count": 1,
   "id": "18b7780e-349a-45b3-879b-bb0b279f1e75",
   "metadata": {
    "tags": []
   },
   "outputs": [],
   "source": [
    "from pybtex.database import parse_file\n",
    "from pybtex.plugin import find_plugin\n",
    "from pprint import pprint\n",
    "\n",
    "bibfile = \"../_data/publications/core_publications.bib\""
   ]
  },
  {
   "cell_type": "code",
   "execution_count": 2,
   "id": "d925486b-577c-4ca1-b962-e4b21cce2aac",
   "metadata": {
    "tags": []
   },
   "outputs": [],
   "source": [
    "bib_data = parse_file(bibfile)\n",
    "alpha = find_plugin(\"pybtex.style.formatting\", \"alpha\")\n",
    "HTML = find_plugin('pybtex.backends', 'html')()\n",
    "formatted_bib = alpha().format_bibliography(bib_data=bib_data)\n",
    "html_entries = [entry.text.render(HTML) for entry in formatted_bib]\n",
    "html_str = \"<ol>\\n\"\n",
    "for html_entry in html_entries:\n",
    "    html_str += f\"\\t<li>{html_entry}</li>\\n\"\n",
    "html_str += \"</ol>\""
   ]
  },
  {
   "cell_type": "code",
   "execution_count": 3,
   "id": "fd048f50-12cc-4e21-bb79-521e624ec35b",
   "metadata": {
    "tags": []
   },
   "outputs": [],
   "source": [
    "with open(\"../_includes/publications/core_publications.html\", \"w\") as fo:\n",
    "    fo.write(html_str)"
   ]
  },
  {
   "cell_type": "code",
   "execution_count": null,
   "id": "57738673-6e4a-4948-8cc3-37a628a17220",
   "metadata": {},
   "outputs": [],
   "source": []
  }
 ],
 "metadata": {
  "kernelspec": {
   "display_name": "Python 3 (ipykernel)",
   "language": "python",
   "name": "python3"
  },
  "language_info": {
   "codemirror_mode": {
    "name": "ipython",
    "version": 3
   },
   "file_extension": ".py",
   "mimetype": "text/x-python",
   "name": "python",
   "nbconvert_exporter": "python",
   "pygments_lexer": "ipython3",
   "version": "3.9.17"
  }
 },
 "nbformat": 4,
 "nbformat_minor": 5
}
