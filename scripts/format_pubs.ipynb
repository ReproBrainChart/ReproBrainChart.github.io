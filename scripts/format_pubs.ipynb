{
 "cells": [
  {
   "cell_type": "code",
   "execution_count": 75,
   "id": "18b7780e-349a-45b3-879b-bb0b279f1e75",
   "metadata": {
    "tags": []
   },
   "outputs": [],
   "source": [
    "from pybtex import database\n",
    "import re\n"
   ]
  },
  {
   "cell_type": "code",
   "execution_count": 76,
   "id": "29762403",
   "metadata": {},
   "outputs": [],
   "source": [
    "bibfile = \"../_data/publications/core_publications.bib\"\n",
    "bib_data = database.parse_file(bibfile)\n",
    "\n",
    "sorted_entries = sorted(\n",
    "    bib_data.entries.items(),\n",
    "    key=lambda x: x[1].fields.get(\"year\", \"2025\"),\n",
    "    reverse=False,\n",
    ")\n"
   ]
  },
  {
   "cell_type": "code",
   "execution_count": 77,
   "id": "29e19f84",
   "metadata": {},
   "outputs": [],
   "source": [
    "def pybtex_entry_to_dict(entry_tuple):\n",
    "    key, entry = entry_tuple\n",
    "    entry_dict = {\n",
    "        'type': entry.type,\n",
    "        'fields': dict(entry.fields),  # Convert to a regular dictionary\n",
    "        'persons': {role: [str(person) for person in persons] for role, persons in entry.persons.items()}\n",
    "    }\n",
    "    return {key: entry_dict}\n",
    "\n",
    "def parse_bib_to_dict(bib_entries):\n",
    "    bibliography_dict = {}\n",
    "    for entry_tuple in bib_entries:\n",
    "        entry_dict = pybtex_entry_to_dict(entry_tuple)\n",
    "        bibliography_dict.update(entry_dict)\n",
    "    return bibliography_dict\n"
   ]
  },
  {
   "cell_type": "code",
   "execution_count": 78,
   "id": "ae71a960",
   "metadata": {},
   "outputs": [],
   "source": [
    "bibliography_dict = parse_bib_to_dict(sorted_entries)"
   ]
  },
  {
   "cell_type": "code",
   "execution_count": 79,
   "id": "c3b23d48",
   "metadata": {},
   "outputs": [],
   "source": [
    "def remove_non_letters(text):\n",
    "    # Use regular expression to substitute non-letter characters with an empty string\n",
    "    return re.sub(r'[^a-zA-Z\\-]', '', text)\n",
    "\n",
    "def remove_curly_braces(text):\n",
    "    return text.replace(\"{\", \"\").replace(\"}\", \"\")\n",
    "\n",
    "def remove_alternate_commas(input_string):\n",
    "    output_string = ''\n",
    "    comma_count = 1\n",
    "\n",
    "    for char in input_string:\n",
    "        if char == ',':\n",
    "            comma_count += 1\n",
    "            if comma_count % 2 != 0:\n",
    "                output_string += char\n",
    "        else:\n",
    "            output_string += char\n",
    "\n",
    "    return output_string\n",
    "def format_author_names(authors):\n",
    "    formatted_authors = []\n",
    "    for author in authors:\n",
    "        parts = author.split(',')\n",
    "        clean_parts=[]\n",
    "        for part in parts:\n",
    "            part=part.replace(' ', '-')\n",
    "            part=remove_non_letters(part)\n",
    "            if part != 'others' and part != '': \n",
    "                clean_parts.append(part)\n",
    "        if len(clean_parts) >= 2:\n",
    "            last_name = clean_parts[0].strip()\n",
    "            first_middle_names = parts[1].strip().split()\n",
    "            initials = ''.join([name[0].upper() for name in first_middle_names])\n",
    "            formatted_authors.append(f\"{last_name}, {initials}\")\n",
    "    final_authors= ', '.join(formatted_authors)\n",
    "    char_to_replace = ', '\n",
    "    replacement_char = ', & '\n",
    "    last_index = final_authors.rfind(char_to_replace)\n",
    "    second_last_index = final_authors[:last_index].rfind(char_to_replace)\n",
    "    final_authors = final_authors[:second_last_index] + replacement_char + final_authors[second_last_index + 1:]\n",
    "    final_authors=remove_alternate_commas(final_authors)\n",
    "    return final_authors\n",
    "\n",
    "def dict_to_nlm_citation(entry_dict):\n",
    "    authors = entry_dict.get('author', '')[0]\n",
    "    title = entry_dict.get('title', '')\n",
    "    if title.endswith('.'):\n",
    "        title= title.rstrip('.')\n",
    "    journal = entry_dict.get('journal', '')\n",
    "    volume = entry_dict.get('volume', '')\n",
    "    pages = entry_dict.get('pages', '')\n",
    "    year = entry_dict.get('year', '')\n",
    "    authors_formatted = format_author_names(authors)\n",
    "    citation = f\"{authors_formatted}. {title}. {journal}. {year};{volume}:{pages}.\"\n",
    "    citation = remove_curly_braces(citation)\n",
    "    return citation"
   ]
  },
  {
   "cell_type": "code",
   "execution_count": 80,
   "id": "ce4a57e7",
   "metadata": {},
   "outputs": [],
   "source": [
    "citations=[]\n",
    "for item in bibliography_dict.values():\n",
    "    item['fields']['author']=list(item['persons'].values())\n",
    "    citations.append(dict_to_nlm_citation(item['fields']))"
   ]
  },
  {
   "cell_type": "code",
   "execution_count": 81,
   "id": "3b1ec522",
   "metadata": {},
   "outputs": [],
   "source": [
    "def render_citations_to_html(citations):\n",
    "    html = \"<ul>\\n\"\n",
    "    for citation in citations:\n",
    "        html += \"<li>\"\n",
    "        parts = citation.split(\".\")\n",
    "        if len(parts) >= 4:\n",
    "            authors = parts[0].strip()\n",
    "            title = parts[1].strip()\n",
    "            journal = parts[2].strip()\n",
    "            year= parts[3][1:5]\n",
    "            volume_info= parts[3][6:]\n",
    "            volume_info=volume_info.replace('--','-')\n",
    "            if volume_info != \":\":\n",
    "                html += f\"{authors}. {title}. {journal}. {year}. {volume_info}\"\n",
    "            else: \n",
    "                html += f\"{authors}. {title}. {journal}. {year}.\"\n",
    "        else:\n",
    "            html += citation\n",
    "        html += \"</li>\\n\"\n",
    "    html += \"</ul>\"\n",
    "    return html\n",
    "\n",
    "citations_html=render_citations_to_html(citations)\n"
   ]
  },
  {
   "cell_type": "code",
   "execution_count": 82,
   "id": "3a5384bf",
   "metadata": {},
   "outputs": [],
   "source": [
    "with open(\"../_includes/publications/core_publications.html\", \"w\") as fo:\n",
    "    fo.write(citations_html)"
   ]
  }
 ],
 "metadata": {
  "kernelspec": {
   "display_name": "Python 3 (ipykernel)",
   "language": "python",
   "name": "python3"
  },
  "language_info": {
   "codemirror_mode": {
    "name": "ipython",
    "version": 3
   },
   "file_extension": ".py",
   "mimetype": "text/x-python",
   "name": "python",
   "nbconvert_exporter": "python",
   "pygments_lexer": "ipython3",
   "version": "3.9.19"
  }
 },
 "nbformat": 4,
 "nbformat_minor": 5
}
