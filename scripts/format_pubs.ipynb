{
 "cells": [
  {
   "cell_type": "code",
   "execution_count": 1,
   "id": "18b7780e-349a-45b3-879b-bb0b279f1e75",
   "metadata": {
    "tags": []
   },
   "outputs": [],
   "source": [
    "from pybtex import database\n",
    "from pybtex.plugin import find_plugin\n",
    "from pprint import pprint"
   ]
  },
  {
   "cell_type": "code",
   "execution_count": 2,
   "id": "d925486b-577c-4ca1-b962-e4b21cce2aac",
   "metadata": {
    "tags": []
   },
   "outputs": [],
   "source": [
    "bibfile = \"../_data/publications/core_publications.bib\"\n",
    "bib_data = database.parse_file(bibfile)\n",
    "formatter = find_plugin(\"pybtex.style.formatting\", \"unsrt\")\n",
    "HTML = find_plugin('pybtex.backends', 'html')()"
   ]
  },
  {
   "cell_type": "code",
   "execution_count": 3,
   "id": "ae89c16e-89ac-44f1-9405-0d82b8065863",
   "metadata": {
    "tags": []
   },
   "outputs": [],
   "source": [
    "# Sort the entries by year in descending order\n",
    "sorted_entries = sorted(\n",
    "    bib_data.entries.items(),\n",
    "    key=lambda x: x[1].fields.get(\"year\", \"2025\"),\n",
    "    reverse=False,\n",
    ")\n",
    "\n",
    "# Create a new BibliographyData object with the sorted entries\n",
    "sorted_bib_data = database.BibliographyData(entries=dict(sorted_entries))\n",
    "\n",
    "# Format the sorted bibliography\n",
    "formatted_bib = formatter().format_bibliography(bib_data=sorted_bib_data)\n",
    "\n",
    "html_entries = [entry.text.render(HTML) for entry in formatted_bib]\n",
    "html_str = \"<ol>\\n\"\n",
    "for html_entry in html_entries:\n",
    "    html_str += f\"\\t<li>{html_entry}</li>\\n\"\n",
    "html_str += \"</ol>\""
   ]
  },
  {
   "cell_type": "code",
   "execution_count": 4,
   "id": "fd048f50-12cc-4e21-bb79-521e624ec35b",
   "metadata": {
    "tags": []
   },
   "outputs": [],
   "source": [
    "with open(\"../_includes/publications/core_publications.html\", \"w\") as fo:\n",
    "    fo.write(html_str)"
   ]
  }
 ],
 "metadata": {
  "kernelspec": {
   "display_name": "Python 3 (ipykernel)",
   "language": "python",
   "name": "python3"
  },
  "language_info": {
   "codemirror_mode": {
    "name": "ipython",
    "version": 3
   },
   "file_extension": ".py",
   "mimetype": "text/x-python",
   "name": "python",
   "nbconvert_exporter": "python",
   "pygments_lexer": "ipython3",
   "version": "3.9.17"
  }
 },
 "nbformat": 4,
 "nbformat_minor": 5
}
